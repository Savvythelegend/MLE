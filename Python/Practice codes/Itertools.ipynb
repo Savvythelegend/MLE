{
 "cells": [
  {
   "cell_type": "code",
   "execution_count": 22,
   "id": "1e25b06d-17e1-468b-a281-372a16196724",
   "metadata": {},
   "outputs": [],
   "source": [
    "from itertools import *"
   ]
  },
  {
   "cell_type": "code",
   "execution_count": 25,
   "id": "df874dff-b79c-4065-b25e-385b2f18e6aa",
   "metadata": {},
   "outputs": [
    {
     "data": {
      "text/plain": [
       "[(1, 3, 1, 3), (1, 3, 2, 3), (2, 3, 1, 3), (2, 3, 2, 3)]"
      ]
     },
     "execution_count": 25,
     "metadata": {},
     "output_type": "execute_result"
    }
   ],
   "source": [
    "## Returns the cartesian proudct of two arrays\n",
    "a = [1,2]\n",
    "b = [3]\n",
    "prod = product(a,b,repeat = 2)\n",
    "list(prod)"
   ]
  },
  {
   "cell_type": "code",
   "execution_count": 32,
   "id": "d3ce5e32-9390-42c2-9c01-f8f4107e425f",
   "metadata": {},
   "outputs": [
    {
     "data": {
      "text/plain": [
       "[(1, 2, 3), (1, 3, 2), (2, 1, 3), (2, 3, 1), (3, 1, 2), (3, 2, 1)]"
      ]
     },
     "execution_count": 32,
     "metadata": {},
     "output_type": "execute_result"
    }
   ],
   "source": [
    "# Perumutations returns all the possible ordering of the an input\n",
    "a = (1,2,3)\n",
    "perm = permutations(a)\n",
    "list(perm)"
   ]
  },
  {
   "cell_type": "code",
   "execution_count": 37,
   "id": "ab63a963-3fab-4ead-b7a6-ca035391aade",
   "metadata": {},
   "outputs": [
    {
     "name": "stdout",
     "output_type": "stream",
     "text": [
      "('A', 'B')\n",
      "('A', 'C')\n",
      "('B', 'C')\n"
     ]
    }
   ],
   "source": [
    "items = ['A', 'B', 'C']\n",
    "for combo in combinations(items, 2):\n",
    "    print(combo)"
   ]
  }
 ],
 "metadata": {
  "kernelspec": {
   "display_name": "Python 3 (ipykernel)",
   "language": "python",
   "name": "python3"
  },
  "language_info": {
   "codemirror_mode": {
    "name": "ipython",
    "version": 3
   },
   "file_extension": ".py",
   "mimetype": "text/x-python",
   "name": "python",
   "nbconvert_exporter": "python",
   "pygments_lexer": "ipython3",
   "version": "3.12.4"
  }
 },
 "nbformat": 4,
 "nbformat_minor": 5
}
