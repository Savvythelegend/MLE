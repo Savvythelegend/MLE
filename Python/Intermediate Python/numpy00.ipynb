{
 "cells": [
  {
   "cell_type": "markdown",
   "id": "b1b4cfa7-69dd-42b3-80e2-375db20bd989",
   "metadata": {},
   "source": [
    "## Numpy Basics ##"
   ]
  },
  {
   "cell_type": "code",
   "execution_count": 1,
   "id": "0307ec7b-d65e-4262-9c08-0dc633ad17bb",
   "metadata": {},
   "outputs": [],
   "source": [
    "import numpy as np\n",
    "import sys"
   ]
  },
  {
   "cell_type": "code",
   "execution_count": 2,
   "id": "3fce907c-d7ad-4ee1-af70-1ac5f700b72b",
   "metadata": {},
   "outputs": [
    {
     "data": {
      "text/plain": [
       "array([[1, 3, 4]], dtype=int8)"
      ]
     },
     "execution_count": 2,
     "metadata": {},
     "output_type": "execute_result"
    }
   ],
   "source": [
    "a = np.array([[1,3,4]],np.int8) #converted into a 2d array\n",
    "a"
   ]
  },
  {
   "cell_type": "code",
   "execution_count": 3,
   "id": "10814c2b-e3b3-48d7-b896-ff2451aef537",
   "metadata": {},
   "outputs": [
    {
     "name": "stdout",
     "output_type": "stream",
     "text": [
      "<class 'numpy.ndarray'>\n"
     ]
    }
   ],
   "source": [
    "print(type(a))"
   ]
  },
  {
   "cell_type": "code",
   "execution_count": 4,
   "id": "e9a7bb66-e4c9-4c51-a56f-7fbe4463fd75",
   "metadata": {},
   "outputs": [
    {
     "data": {
      "text/plain": [
       "4"
      ]
     },
     "execution_count": 4,
     "metadata": {},
     "output_type": "execute_result"
    }
   ],
   "source": [
    "a[0][2]"
   ]
  },
  {
   "cell_type": "code",
   "execution_count": 5,
   "id": "280a8274-4c8e-4402-bb95-1704a6e39acb",
   "metadata": {},
   "outputs": [],
   "source": [
    "# usually we store like this "
   ]
  },
  {
   "cell_type": "code",
   "execution_count": 6,
   "id": "576cf4ea-7646-4f79-bdf5-7226b7219c3b",
   "metadata": {},
   "outputs": [
    {
     "name": "stdout",
     "output_type": "stream",
     "text": [
      "28000\n"
     ]
    }
   ],
   "source": [
    "b = range(1000)\n",
    "print(sys.getsizeof(5) * len(b))"
   ]
  },
  {
   "cell_type": "code",
   "execution_count": 7,
   "id": "c95690fa-98cb-4c6e-8f7e-ce5b02f4c86b",
   "metadata": {},
   "outputs": [],
   "source": [
    "# storing with a numpy object"
   ]
  },
  {
   "cell_type": "code",
   "execution_count": 8,
   "id": "78c793ad-7a78-49a9-a655-2d6c2a6b9432",
   "metadata": {},
   "outputs": [
    {
     "name": "stdout",
     "output_type": "stream",
     "text": [
      "4000\n"
     ]
    }
   ],
   "source": [
    "c = np.arange(1000)\n",
    "print(c.size*c.itemsize)"
   ]
  },
  {
   "cell_type": "code",
   "execution_count": 9,
   "id": "aab5a6f2-d992-4b97-9393-824f4b1c4367",
   "metadata": {},
   "outputs": [],
   "source": [
    "# 4000 < 28000 take less storage"
   ]
  },
  {
   "cell_type": "code",
   "execution_count": 17,
   "id": "0695c0aa-ec9c-404c-82be-f6dc594ab976",
   "metadata": {},
   "outputs": [],
   "source": [
    "a = np.array([[1,2,3],[3,4,5],[23,4443,23]],dtype = np.float64)"
   ]
  },
  {
   "cell_type": "code",
   "execution_count": 13,
   "id": "87282e8b-7e3d-42c4-a04c-bc179b18fdd4",
   "metadata": {},
   "outputs": [
    {
     "data": {
      "text/plain": [
       "2"
      ]
     },
     "execution_count": 13,
     "metadata": {},
     "output_type": "execute_result"
    }
   ],
   "source": [
    "a.ndim"
   ]
  },
  {
   "cell_type": "code",
   "execution_count": 14,
   "id": "25b40de2-ed85-4fce-8006-251629d6522b",
   "metadata": {},
   "outputs": [
    {
     "data": {
      "text/plain": [
       "(3, 3)"
      ]
     },
     "execution_count": 14,
     "metadata": {},
     "output_type": "execute_result"
    }
   ],
   "source": [
    "a.shape"
   ]
  },
  {
   "cell_type": "code",
   "execution_count": 15,
   "id": "a69e51ba-868a-4938-84cd-c68689020461",
   "metadata": {},
   "outputs": [
    {
     "data": {
      "text/plain": [
       "9"
      ]
     },
     "execution_count": 15,
     "metadata": {},
     "output_type": "execute_result"
    }
   ],
   "source": [
    "a.size"
   ]
  },
  {
   "cell_type": "code",
   "execution_count": 21,
   "id": "74a0d027-0c4c-4283-ad32-e743a695de12",
   "metadata": {},
   "outputs": [
    {
     "data": {
      "text/plain": [
       "8"
      ]
     },
     "execution_count": 21,
     "metadata": {},
     "output_type": "execute_result"
    }
   ],
   "source": [
    "a.itemsize  #float size"
   ]
  },
  {
   "cell_type": "code",
   "execution_count": 20,
   "id": "748370eb-fda6-4a91-a11b-b142bc43e1ae",
   "metadata": {},
   "outputs": [
    {
     "data": {
      "text/plain": [
       "numpy.ndarray"
      ]
     },
     "execution_count": 20,
     "metadata": {},
     "output_type": "execute_result"
    }
   ],
   "source": [
    "type(a)"
   ]
  },
  {
   "cell_type": "code",
   "execution_count": 26,
   "id": "b515e63f-a2e8-4fa5-8927-97fc8cc0e5ae",
   "metadata": {},
   "outputs": [
    {
     "data": {
      "text/plain": [
       "array([[0., 0., 0., 0.],\n",
       "       [0., 0., 0., 0.],\n",
       "       [0., 0., 0., 0.]])"
      ]
     },
     "execution_count": 26,
     "metadata": {},
     "output_type": "execute_result"
    }
   ],
   "source": [
    "# creating a zero matrix \n",
    "matrix = np.zeros((3,4))\n",
    "matrix"
   ]
  },
  {
   "cell_type": "code",
   "execution_count": 27,
   "id": "67ca81c2-4b94-497a-be90-95407e93ba7f",
   "metadata": {},
   "outputs": [
    {
     "data": {
      "text/plain": [
       "array([[1., 1., 1., 1.],\n",
       "       [1., 1., 1., 1.],\n",
       "       [1., 1., 1., 1.]])"
      ]
     },
     "execution_count": 27,
     "metadata": {},
     "output_type": "execute_result"
    }
   ],
   "source": [
    "# creating a unit matrix \n",
    "matrix = np.ones((3,4))\n",
    "matrix"
   ]
  },
  {
   "cell_type": "code",
   "execution_count": 28,
   "id": "abe9e4ad-b229-4ef0-b3cc-5ee8080599d1",
   "metadata": {},
   "outputs": [
    {
     "data": {
      "text/plain": [
       "array([0, 1, 2, 3, 4])"
      ]
     },
     "execution_count": 28,
     "metadata": {},
     "output_type": "execute_result"
    }
   ],
   "source": [
    "np.arange(5)"
   ]
  },
  {
   "cell_type": "markdown",
   "id": "60398584-52f6-48ae-bc53-635de952ea0d",
   "metadata": {},
   "source": [
    "##  Numpy strings functions  ##"
   ]
  },
  {
   "cell_type": "code",
   "execution_count": 31,
   "id": "31fcd070-bbc5-44f4-af2f-e48fa00e7917",
   "metadata": {},
   "outputs": [
    {
     "name": "stdout",
     "output_type": "stream",
     "text": [
      "['Hello Friends' 'Welcome to Mahesh Guruji']\n"
     ]
    }
   ],
   "source": [
    "print(np.char.add([\"Hello\", \"Welcome\"], [\" Friends\" , \" to Mahesh Guruji\"]))"
   ]
  },
  {
   "cell_type": "code",
   "execution_count": 33,
   "id": "8573c2f4-7077-41d5-af4b-3b5b7fab089c",
   "metadata": {},
   "outputs": [
    {
     "name": "stdout",
     "output_type": "stream",
     "text": [
      "-------hello--------\n"
     ]
    }
   ],
   "source": [
    "print(np.char.center(\"hello\",20, \"-\"))"
   ]
  },
  {
   "cell_type": "code",
   "execution_count": 39,
   "id": "60821c28-78f0-4f3d-a159-daf510ab20ad",
   "metadata": {},
   "outputs": [
    {
     "name": "stdout",
     "output_type": "stream",
     "text": [
      "HELLO WORLD\n"
     ]
    }
   ],
   "source": [
    "print(np.char.upper(\"hello WORLd\"))"
   ]
  },
  {
   "cell_type": "code",
   "execution_count": 45,
   "id": "674f3e4c-2b59-472c-9336-553b9c9936fe",
   "metadata": {},
   "outputs": [
    {
     "name": "stdout",
     "output_type": "stream",
     "text": [
      "['Hello', 'How', 'are', 'you']\n"
     ]
    }
   ],
   "source": [
    "print(np.char.split(\"Hello How are you\"))"
   ]
  },
  {
   "cell_type": "code",
   "execution_count": 46,
   "id": "2e3aecfb-0962-46e8-a64e-748fa4a1f6a4",
   "metadata": {},
   "outputs": [
    {
     "name": "stdout",
     "output_type": "stream",
     "text": [
      "['ello' 'ow' 'are' 'you']\n"
     ]
    }
   ],
   "source": [
    "print(np.char.strip(['Hello', 'How', 'are', 'you'],\"H\"))"
   ]
  },
  {
   "cell_type": "markdown",
   "id": "e46ce654-bcb4-4e03-9b76-ad515d591ad3",
   "metadata": {},
   "source": [
    "## Array operations ##"
   ]
  },
  {
   "cell_type": "code",
   "execution_count": 52,
   "id": "2afce76a-74a8-4658-a29c-61713f4c5153",
   "metadata": {},
   "outputs": [
    {
     "data": {
      "text/plain": [
       "array([[0.33833461, 0.49372375, 0.38513959, 0.1658044 ],\n",
       "       [0.73212158, 0.21808031, 0.11327078, 0.28548395],\n",
       "       [0.27610946, 0.17161835, 0.66062681, 0.92899056]])"
      ]
     },
     "execution_count": 52,
     "metadata": {},
     "output_type": "execute_result"
    }
   ],
   "source": [
    "import random\n",
    "np.random.rand(3,4)"
   ]
  },
  {
   "cell_type": "code",
   "execution_count": 53,
   "id": "86ccfa10-ac32-4a3a-89b5-53ab26d8684b",
   "metadata": {},
   "outputs": [
    {
     "data": {
      "text/plain": [
       "array([[5, 4, 3],\n",
       "       [3, 5, 1],\n",
       "       [4, 5, 3]])"
      ]
     },
     "execution_count": 53,
     "metadata": {},
     "output_type": "execute_result"
    }
   ],
   "source": [
    "np.random.randint(7,size = (3,3))"
   ]
  },
  {
   "cell_type": "code",
   "execution_count": 54,
   "id": "7bd38e4b-b530-4d13-a8e0-abef99c48493",
   "metadata": {},
   "outputs": [
    {
     "data": {
      "text/plain": [
       "array([[ 2, -4, -3],\n",
       "       [-1,  4,  4],\n",
       "       [-4, -3, -1]])"
      ]
     },
     "execution_count": 54,
     "metadata": {},
     "output_type": "execute_result"
    }
   ],
   "source": [
    "np.random.randint(-4,5,size = (3,3))"
   ]
  },
  {
   "cell_type": "code",
   "execution_count": 60,
   "id": "50376d9b-3c24-4397-b00a-506975e0bca4",
   "metadata": {},
   "outputs": [
    {
     "data": {
      "text/plain": [
       "33"
      ]
     },
     "execution_count": 60,
     "metadata": {},
     "output_type": "execute_result"
    }
   ],
   "source": [
    "np.random.randint(10,101)"
   ]
  },
  {
   "cell_type": "code",
   "execution_count": 62,
   "id": "01f1a1a6-82a9-42cb-b11f-d3a811bce384",
   "metadata": {},
   "outputs": [
    {
     "name": "stdout",
     "output_type": "stream",
     "text": [
      "[15, 27, 15, 30, 44, 19, 34, 49, 8, 3, 20, 4, 6, 2, 29, 20, 22, 5, 12, 12, 6, 34, 42, 32, 30, 2, 7, 31, 40, 33, 30, 36, 22, 18, 38, 25, 35, 16, 43, 8, 26, 7, 40, 11, 19, 37, 39, 31, 20, 34]\n"
     ]
    }
   ],
   "source": [
    "#Initalize and append the random numbers \n",
    "RandomNumber = []\n",
    "for i in range(50):\n",
    "    RandomNumber.append(np.random.randint(low = 0 , high = 50))\n",
    "print(RandomNumber)"
   ]
  },
  {
   "cell_type": "code",
   "execution_count": 65,
   "id": "ae16e4f9-fe57-416a-bc35-cf083eea34a6",
   "metadata": {},
   "outputs": [
    {
     "name": "stdout",
     "output_type": "stream",
     "text": [
      "462\n"
     ]
    }
   ],
   "source": [
    "np.random.seed(3)\n",
    "print(np.random.randint(100,500)) #This is save the state of randomness and returns the same value every time you run it"
   ]
  },
  {
   "cell_type": "code",
   "execution_count": 69,
   "id": "190b5a7e-c18b-4059-9f1f-eb503658f191",
   "metadata": {},
   "outputs": [
    {
     "data": {
      "text/plain": [
       "array([[[0.75766525, 0.81757073, 0.25758529, 0.89306511],\n",
       "        [0.71842202, 0.0206145 , 0.14271733, 0.32530618],\n",
       "        [0.8089292 , 0.39899095, 0.42470161, 0.41371868]],\n",
       "\n",
       "       [[0.7871385 , 0.71356575, 0.02311757, 0.31576725],\n",
       "        [0.56277009, 0.74815744, 0.60962367, 0.20335453],\n",
       "        [0.65363085, 0.66268627, 0.87107205, 0.81122776]]])"
      ]
     },
     "execution_count": 69,
     "metadata": {},
     "output_type": "execute_result"
    }
   ],
   "source": [
    "np.random.rand(2,3,4)"
   ]
  },
  {
   "cell_type": "code",
   "execution_count": 71,
   "id": "7241144c-14e5-4f60-8938-8cef24d7a37b",
   "metadata": {},
   "outputs": [
    {
     "data": {
      "text/plain": [
       "array([[6.23042070e-307, 1.33512376e-306, 1.11261230e-306],\n",
       "       [7.56577399e-307, 9.34600963e-307, 1.05699581e-307]])"
      ]
     },
     "execution_count": 71,
     "metadata": {},
     "output_type": "execute_result"
    }
   ],
   "source": [
    "np.empty((2,3))"
   ]
  },
  {
   "cell_type": "code",
   "execution_count": 72,
   "id": "4493f633-51a1-4c5f-9970-b14e9b7f258c",
   "metadata": {},
   "outputs": [
    {
     "data": {
      "text/plain": [
       "array([1, 1, 1, 1, 1])"
      ]
     },
     "execution_count": 72,
     "metadata": {},
     "output_type": "execute_result"
    }
   ],
   "source": [
    "np.full(5,1)"
   ]
  },
  {
   "cell_type": "code",
   "execution_count": 73,
   "id": "02580a71-c3b4-4b88-a383-7753ce0ba76c",
   "metadata": {},
   "outputs": [
    {
     "data": {
      "text/plain": [
       "array([100., 100., 100., 100., 100., 100., 100., 100., 100., 100.])"
      ]
     },
     "execution_count": 73,
     "metadata": {},
     "output_type": "execute_result"
    }
   ],
   "source": [
    "np.full(10,100,dtype = \"f8\")"
   ]
  },
  {
   "cell_type": "code",
   "execution_count": 74,
   "id": "f739e967-71c1-4b6c-93d3-2549c5e82cfb",
   "metadata": {},
   "outputs": [
    {
     "data": {
      "text/plain": [
       "array([[1., 0., 0.],\n",
       "       [0., 1., 0.],\n",
       "       [0., 0., 1.]])"
      ]
     },
     "execution_count": 74,
     "metadata": {},
     "output_type": "execute_result"
    }
   ],
   "source": [
    "#accessing digonal elements \n",
    "np.eye(3,3)"
   ]
  },
  {
   "cell_type": "code",
   "execution_count": 76,
   "id": "7481d05d-a638-402c-a313-f9c075ca01e0",
   "metadata": {},
   "outputs": [
    {
     "data": {
      "text/plain": [
       "array([[1., 0., 0., 0.],\n",
       "       [0., 1., 0., 0.],\n",
       "       [0., 0., 1., 0.],\n",
       "       [0., 0., 0., 1.]])"
      ]
     },
     "execution_count": 76,
     "metadata": {},
     "output_type": "execute_result"
    }
   ],
   "source": [
    "np.eye(4,4)"
   ]
  },
  {
   "cell_type": "code",
   "execution_count": 78,
   "id": "3bc582b0-ca58-4dc9-b6c1-7811e6b0dc97",
   "metadata": {},
   "outputs": [
    {
     "data": {
      "text/plain": [
       "array([[3, 0],\n",
       "       [0, 2]])"
      ]
     },
     "execution_count": 78,
     "metadata": {},
     "output_type": "execute_result"
    }
   ],
   "source": [
    "np.diag([3,2])"
   ]
  },
  {
   "cell_type": "code",
   "execution_count": null,
   "id": "74e0002d-422f-40db-8239-4db4813863fe",
   "metadata": {},
   "outputs": [],
   "source": []
  }
 ],
 "metadata": {
  "kernelspec": {
   "display_name": "Python 3 (ipykernel)",
   "language": "python",
   "name": "python3"
  },
  "language_info": {
   "codemirror_mode": {
    "name": "ipython",
    "version": 3
   },
   "file_extension": ".py",
   "mimetype": "text/x-python",
   "name": "python",
   "nbconvert_exporter": "python",
   "pygments_lexer": "ipython3",
   "version": "3.12.3"
  }
 },
 "nbformat": 4,
 "nbformat_minor": 5
}
